{
 "cells": [
  {
   "cell_type": "code",
   "execution_count": 1,
   "metadata": {},
   "outputs": [
    {
     "name": "stdout",
     "output_type": "stream",
     "text": [
      "c:\\Users\\hany5\\testing-app\\new_superpoint_transformer\n"
     ]
    }
   ],
   "source": [
    "%cd new_superpoint_transformer/"
   ]
  },
  {
   "cell_type": "code",
   "execution_count": 2,
   "metadata": {},
   "outputs": [
    {
     "name": "stdout",
     "output_type": "stream",
     "text": [
      "Jupyter environment detected. Enabling Open3D WebVisualizer.\n",
      "[Open3D INFO] WebRTC GUI backend enabled.\n",
      "[Open3D INFO] WebRTCWindowSystem: HTTP handshake server disabled.\n"
     ]
    }
   ],
   "source": [
    "import numpy as np\n",
    "import open3d as opd\n",
    "from plyfile import PlyData, PlyElement\n",
    "from src.data import Data\n",
    "import torch"
   ]
  },
  {
   "cell_type": "code",
   "execution_count": 16,
   "metadata": {},
   "outputs": [],
   "source": [
    "s3dis_test_path = \"D:\\\\datasets\\\\s3dis\\\\non aligned version\\\\data\\\\s3dis\\\\raw\\\\Area_1\\\\conferenceRoom_1\\\\conferenceRoom_1.txt\""
   ]
  },
  {
   "cell_type": "code",
   "execution_count": 33,
   "metadata": {},
   "outputs": [],
   "source": [
    "other_pcd = opd.io.read_point_cloud(s3dis_test_path, format='xyzrgb')"
   ]
  },
  {
   "cell_type": "code",
   "execution_count": 35,
   "metadata": {},
   "outputs": [
    {
     "ename": "TypeError",
     "evalue": "unsupported operand type(s) for /=: 'open3d.cpu.pybind.utility.Vector3dVector' and 'int'",
     "output_type": "error",
     "traceback": [
      "\u001b[1;31m---------------------------------------------------------------------------\u001b[0m",
      "\u001b[1;31mTypeError\u001b[0m                                 Traceback (most recent call last)",
      "Cell \u001b[1;32mIn[35], line 1\u001b[0m\n\u001b[1;32m----> 1\u001b[0m other_pcd\u001b[38;5;241m.\u001b[39mcolors\u001b[38;5;241m/\u001b[39m\u001b[38;5;241m=\u001b[39m\u001b[38;5;241m255\u001b[39m\n",
      "\u001b[1;31mTypeError\u001b[0m: unsupported operand type(s) for /=: 'open3d.cpu.pybind.utility.Vector3dVector' and 'int'"
     ]
    }
   ],
   "source": []
  },
  {
   "cell_type": "code",
   "execution_count": 32,
   "metadata": {},
   "outputs": [],
   "source": [
    "opd.visualization.draw_geometries([other_pcd])"
   ]
  },
  {
   "cell_type": "code",
   "execution_count": 3,
   "metadata": {},
   "outputs": [],
   "source": [
    "ply_path = \"C:\\\\Users\\\\hany5\\\\Downloads\\\\test\\\\_vswork_room15.ply\""
   ]
  },
  {
   "cell_type": "code",
   "execution_count": 39,
   "metadata": {},
   "outputs": [],
   "source": [
    "ply_data = PlyData.read(ply_path)\n",
    "\n",
    "# Access the vertex data with double precision for x, y, z\n",
    "x = np.array(ply_data['vertex']['x'], dtype=np.double)\n",
    "y = np.array(ply_data['vertex']['y'], dtype=np.double)\n",
    "z = np.array(ply_data['vertex']['z'], dtype=np.double)\n",
    "\n",
    "# Stack the coordinates into a point cloud\n",
    "points = np.vstack((x, y, z)).T\n",
    "\n",
    "# Access RGB data (assuming it's stored as 'red', 'green', 'blue' in the ply file)\n",
    "r = np.array(ply_data['vertex']['red'], dtype=np.double) / 255.0\n",
    "g = np.array(ply_data['vertex']['green'], dtype=np.double) / 255.0\n",
    "b = np.array(ply_data['vertex']['blue'], dtype=np.double) / 255.0\n",
    "\n",
    "# Stack the color data into an array\n",
    "colors = np.vstack((r, g, b)).T\n",
    "\n",
    "# Create a point cloud in Open3D and assign the points and colors\n",
    "point_cloud = opd.geometry.PointCloud()\n",
    "point_cloud.points = opd.utility.Vector3dVector(points)  # Retain double precision for points\n",
    "point_cloud.colors = opd.utility.Vector3dVector(colors)\n",
    "\n",
    "data = Data()\n",
    "data.pos = torch.tensor(point_cloud.points, dtype=torch.double)\n",
    "data.rgb = torch.tensor(point_cloud.colors, dtype=torch.double)"
   ]
  },
  {
   "cell_type": "code",
   "execution_count": null,
   "metadata": {},
   "outputs": [],
   "source": []
  },
  {
   "cell_type": "code",
   "execution_count": 8,
   "metadata": {},
   "outputs": [
    {
     "name": "stdout",
     "output_type": "stream",
     "text": [
      "tensor([[ 7.8300, -2.4370,  2.7450],\n",
      "        [ 8.2630, -3.7770,  0.0980],\n",
      "        [ 8.2560, -3.7670,  0.0990],\n",
      "        ...,\n",
      "        [10.6460, -4.4600,  0.8890],\n",
      "        [10.6670, -4.4650,  0.9120],\n",
      "        [10.6680, -4.4550,  0.9050]], dtype=torch.float64)\n"
     ]
    }
   ],
   "source": [
    "print(data.pos)"
   ]
  },
  {
   "cell_type": "code",
   "execution_count": 4,
   "metadata": {},
   "outputs": [
    {
     "name": "stdout",
     "output_type": "stream",
     "text": [
      "PointCloud with 1844000 points.\n"
     ]
    }
   ],
   "source": [
    "pcd = opd.io.read_point_cloud(ply_path,format='ply')\n",
    "print(pcd)"
   ]
  },
  {
   "cell_type": "code",
   "execution_count": 8,
   "metadata": {},
   "outputs": [
    {
     "name": "stderr",
     "output_type": "stream",
     "text": [
      "C:\\Users\\hany5\\AppData\\Local\\Temp\\ipykernel_10744\\1308140736.py:1: UserWarning: Creating a tensor from a list of numpy.ndarrays is extremely slow. Please consider converting the list to a single numpy.ndarray with numpy.array() before converting to a tensor. (Triggered internally at C:\\actions-runner\\_work\\pytorch\\pytorch\\builder\\windows\\pytorch\\torch\\csrc\\utils\\tensor_new.cpp:278.)\n",
      "  torch.tensor(pcd.points)\n"
     ]
    },
    {
     "data": {
      "text/plain": [
       "tensor([[ 7.8300, -2.4370,  2.7450],\n",
       "        [ 8.2630, -3.7770,  0.0980],\n",
       "        [ 8.2560, -3.7670,  0.0990],\n",
       "        ...,\n",
       "        [10.6460, -4.4600,  0.8890],\n",
       "        [10.6670, -4.4650,  0.9120],\n",
       "        [10.6680, -4.4550,  0.9050]], dtype=torch.float64)"
      ]
     },
     "execution_count": 8,
     "metadata": {},
     "output_type": "execute_result"
    }
   ],
   "source": [
    "torch.tensor(pcd.points)"
   ]
  },
  {
   "cell_type": "code",
   "execution_count": 5,
   "metadata": {},
   "outputs": [
    {
     "data": {
      "text/plain": [
       "open3d.cpu.pybind.geometry.PointCloud"
      ]
     },
     "execution_count": 5,
     "metadata": {},
     "output_type": "execute_result"
    }
   ],
   "source": [
    "type(pcd)"
   ]
  },
  {
   "cell_type": "code",
   "execution_count": 13,
   "metadata": {},
   "outputs": [
    {
     "data": {
      "text/plain": [
       "tensor([[0.5765, 0.5451, 0.5647],\n",
       "        [0.0706, 0.1216, 0.0941],\n",
       "        [0.0431, 0.1373, 0.0431],\n",
       "        ...,\n",
       "        [0.0941, 0.1216, 0.1098],\n",
       "        [0.1490, 0.1490, 0.1490],\n",
       "        [0.1490, 0.1490, 0.1490]], dtype=torch.float64)"
      ]
     },
     "execution_count": 13,
     "metadata": {},
     "output_type": "execute_result"
    }
   ],
   "source": [
    "torch.tensor(pcd.colors)"
   ]
  },
  {
   "cell_type": "code",
   "execution_count": 16,
   "metadata": {},
   "outputs": [
    {
     "data": {
      "text/plain": [
       "True"
      ]
     },
     "execution_count": 16,
     "metadata": {},
     "output_type": "execute_result"
    }
   ],
   "source": [
    "opd.io.write_point_cloud(\"output.ply\", pcd , write_ascii=True)"
   ]
  },
  {
   "cell_type": "code",
   "execution_count": 13,
   "metadata": {},
   "outputs": [],
   "source": [
    "opd.visualization.draw_geometries([pcd])"
   ]
  },
  {
   "cell_type": "code",
   "execution_count": 40,
   "metadata": {},
   "outputs": [],
   "source": [
    "def read_ply(file_path):\n",
    "    \"\"\"\n",
    "    Read a .ply file and return a data object with the following fields:\n",
    "    - 'points': (N, 3) numpy array with the point coordinates\n",
    "    - 'colors': (N, 3) numpy array with the point colors\n",
    "    \"\"\"\n",
    "    pcd = opd.io.read_point_cloud(file_path,format='ply')\n",
    "    \n",
    "    data = Data()\n",
    "\n",
    "    data.pos = torch.tensor(np.asarray(pcd.points), dtype=torch.float64)\n",
    "    data.rgb = torch.tensor(np.asarray(pcd.colors), dtype=torch.float64)\n",
    "    \n",
    "    return data"
   ]
  },
  {
   "cell_type": "code",
   "execution_count": 41,
   "metadata": {},
   "outputs": [
    {
     "ename": "RuntimeError",
     "evalue": "expected scalar type Double but found Float",
     "output_type": "error",
     "traceback": [
      "\u001b[1;31m---------------------------------------------------------------------------\u001b[0m",
      "\u001b[1;31mRuntimeError\u001b[0m                              Traceback (most recent call last)",
      "Cell \u001b[1;32mIn[41], line 11\u001b[0m\n\u001b[0;32m      9\u001b[0m transforms_dict \u001b[38;5;241m=\u001b[39m instantiate_datamodule_transforms(cfg\u001b[38;5;241m.\u001b[39mdatamodule)\n\u001b[0;32m     10\u001b[0m data \u001b[38;5;241m=\u001b[39m read_ply(ply_path)\n\u001b[1;32m---> 11\u001b[0m nag \u001b[38;5;241m=\u001b[39m \u001b[43mtransforms_dict\u001b[49m\u001b[43m[\u001b[49m\u001b[38;5;124;43m'\u001b[39;49m\u001b[38;5;124;43mpre_transform\u001b[39;49m\u001b[38;5;124;43m'\u001b[39;49m\u001b[43m]\u001b[49m\u001b[43m(\u001b[49m\u001b[43mdata\u001b[49m\u001b[43m)\u001b[49m\n",
      "File \u001b[1;32md:\\Coding\\envs\\spt\\lib\\site-packages\\torch_geometric\\transforms\\compose.py:24\u001b[0m, in \u001b[0;36mCompose.__call__\u001b[1;34m(self, data)\u001b[0m\n\u001b[0;32m     22\u001b[0m         data \u001b[38;5;241m=\u001b[39m [transform(d) \u001b[38;5;28;01mfor\u001b[39;00m d \u001b[38;5;129;01min\u001b[39;00m data]\n\u001b[0;32m     23\u001b[0m     \u001b[38;5;28;01melse\u001b[39;00m:\n\u001b[1;32m---> 24\u001b[0m         data \u001b[38;5;241m=\u001b[39m \u001b[43mtransform\u001b[49m\u001b[43m(\u001b[49m\u001b[43mdata\u001b[49m\u001b[43m)\u001b[49m\n\u001b[0;32m     25\u001b[0m \u001b[38;5;28;01mreturn\u001b[39;00m data\n",
      "File \u001b[1;32mc:\\Users\\hany5\\testing-app\\new_superpoint_transformer\\src\\transforms\\transforms.py:23\u001b[0m, in \u001b[0;36mTransform.__call__\u001b[1;34m(self, x)\u001b[0m\n\u001b[0;32m     21\u001b[0m \u001b[38;5;28;01mif\u001b[39;00m \u001b[38;5;28misinstance\u001b[39m(x, \u001b[38;5;28mlist\u001b[39m):\n\u001b[0;32m     22\u001b[0m     \u001b[38;5;28;01mreturn\u001b[39;00m [\u001b[38;5;28mself\u001b[39m\u001b[38;5;241m.\u001b[39m\u001b[38;5;21m__call__\u001b[39m(e) \u001b[38;5;28;01mfor\u001b[39;00m e \u001b[38;5;129;01min\u001b[39;00m x]\n\u001b[1;32m---> 23\u001b[0m \u001b[38;5;28;01mreturn\u001b[39;00m \u001b[38;5;28;43mself\u001b[39;49m\u001b[38;5;241;43m.\u001b[39;49m\u001b[43m_process\u001b[49m\u001b[43m(\u001b[49m\u001b[43mx\u001b[49m\u001b[43m)\u001b[49m\n",
      "File \u001b[1;32mc:\\Users\\hany5\\testing-app\\new_superpoint_transformer\\src\\transforms\\sampling.py:151\u001b[0m, in \u001b[0;36mGridSampling3D._process\u001b[1;34m(self, data_in)\u001b[0m\n\u001b[0;32m    149\u001b[0m \u001b[38;5;66;03m# Match each point with a voxel identifier\u001b[39;00m\n\u001b[0;32m    150\u001b[0m \u001b[38;5;28;01mif\u001b[39;00m \u001b[38;5;124m'\u001b[39m\u001b[38;5;124mbatch\u001b[39m\u001b[38;5;124m'\u001b[39m \u001b[38;5;129;01mnot\u001b[39;00m \u001b[38;5;129;01min\u001b[39;00m data:\n\u001b[1;32m--> 151\u001b[0m     cluster \u001b[38;5;241m=\u001b[39m \u001b[43mgrid_cluster\u001b[49m\u001b[43m(\u001b[49m\u001b[43mcoords\u001b[49m\u001b[43m,\u001b[49m\u001b[43m \u001b[49m\u001b[43mtorch\u001b[49m\u001b[38;5;241;43m.\u001b[39;49m\u001b[43mones\u001b[49m\u001b[43m(\u001b[49m\u001b[38;5;241;43m3\u001b[39;49m\u001b[43m,\u001b[49m\u001b[43m \u001b[49m\u001b[43mdevice\u001b[49m\u001b[38;5;241;43m=\u001b[39;49m\u001b[43mcoords\u001b[49m\u001b[38;5;241;43m.\u001b[39;49m\u001b[43mdevice\u001b[49m\u001b[43m)\u001b[49m\u001b[43m)\u001b[49m\n\u001b[0;32m    152\u001b[0m \u001b[38;5;28;01melse\u001b[39;00m:\n\u001b[0;32m    153\u001b[0m     cluster \u001b[38;5;241m=\u001b[39m voxel_grid(coords, data\u001b[38;5;241m.\u001b[39mbatch, \u001b[38;5;241m1\u001b[39m)\n",
      "File \u001b[1;32md:\\Coding\\envs\\spt\\lib\\site-packages\\torch_cluster\\grid.py:34\u001b[0m, in \u001b[0;36mgrid_cluster\u001b[1;34m(pos, size, start, end)\u001b[0m\n\u001b[0;32m      6\u001b[0m \u001b[38;5;28;01mdef\u001b[39;00m \u001b[38;5;21mgrid_cluster\u001b[39m(\n\u001b[0;32m      7\u001b[0m     pos: torch\u001b[38;5;241m.\u001b[39mTensor,\n\u001b[0;32m      8\u001b[0m     size: torch\u001b[38;5;241m.\u001b[39mTensor,\n\u001b[0;32m      9\u001b[0m     start: Optional[torch\u001b[38;5;241m.\u001b[39mTensor] \u001b[38;5;241m=\u001b[39m \u001b[38;5;28;01mNone\u001b[39;00m,\n\u001b[0;32m     10\u001b[0m     end: Optional[torch\u001b[38;5;241m.\u001b[39mTensor] \u001b[38;5;241m=\u001b[39m \u001b[38;5;28;01mNone\u001b[39;00m,\n\u001b[0;32m     11\u001b[0m ) \u001b[38;5;241m-\u001b[39m\u001b[38;5;241m>\u001b[39m torch\u001b[38;5;241m.\u001b[39mTensor:\n\u001b[0;32m     12\u001b[0m \u001b[38;5;250m    \u001b[39m\u001b[38;5;124;03m\"\"\"A clustering algorithm, which overlays a regular grid of user-defined\u001b[39;00m\n\u001b[0;32m     13\u001b[0m \u001b[38;5;124;03m    size over a point cloud and clusters all points within a voxel.\u001b[39;00m\n\u001b[0;32m     14\u001b[0m \n\u001b[1;32m   (...)\u001b[0m\n\u001b[0;32m     32\u001b[0m \u001b[38;5;124;03m        cluster = grid_cluster(pos, size)\u001b[39;00m\n\u001b[0;32m     33\u001b[0m \u001b[38;5;124;03m    \"\"\"\u001b[39;00m\n\u001b[1;32m---> 34\u001b[0m     \u001b[38;5;28;01mreturn\u001b[39;00m \u001b[43mtorch\u001b[49m\u001b[38;5;241;43m.\u001b[39;49m\u001b[43mops\u001b[49m\u001b[38;5;241;43m.\u001b[39;49m\u001b[43mtorch_cluster\u001b[49m\u001b[38;5;241;43m.\u001b[39;49m\u001b[43mgrid\u001b[49m\u001b[43m(\u001b[49m\u001b[43mpos\u001b[49m\u001b[43m,\u001b[49m\u001b[43m \u001b[49m\u001b[43msize\u001b[49m\u001b[43m,\u001b[49m\u001b[43m \u001b[49m\u001b[43mstart\u001b[49m\u001b[43m,\u001b[49m\u001b[43m \u001b[49m\u001b[43mend\u001b[49m\u001b[43m)\u001b[49m\n",
      "File \u001b[1;32md:\\Coding\\envs\\spt\\lib\\site-packages\\torch\\_ops.py:755\u001b[0m, in \u001b[0;36mOpOverloadPacket.__call__\u001b[1;34m(self, *args, **kwargs)\u001b[0m\n\u001b[0;32m    750\u001b[0m \u001b[38;5;28;01mdef\u001b[39;00m \u001b[38;5;21m__call__\u001b[39m(\u001b[38;5;28mself\u001b[39m, \u001b[38;5;241m*\u001b[39margs, \u001b[38;5;241m*\u001b[39m\u001b[38;5;241m*\u001b[39mkwargs):\n\u001b[0;32m    751\u001b[0m     \u001b[38;5;66;03m# overloading __call__ to ensure torch.ops.foo.bar()\u001b[39;00m\n\u001b[0;32m    752\u001b[0m     \u001b[38;5;66;03m# is still callable from JIT\u001b[39;00m\n\u001b[0;32m    753\u001b[0m     \u001b[38;5;66;03m# We save the function ptr as the `op` attribute on\u001b[39;00m\n\u001b[0;32m    754\u001b[0m     \u001b[38;5;66;03m# OpOverloadPacket to access it here.\u001b[39;00m\n\u001b[1;32m--> 755\u001b[0m     \u001b[38;5;28;01mreturn\u001b[39;00m \u001b[38;5;28;43mself\u001b[39;49m\u001b[38;5;241;43m.\u001b[39;49m\u001b[43m_op\u001b[49m\u001b[43m(\u001b[49m\u001b[38;5;241;43m*\u001b[39;49m\u001b[43margs\u001b[49m\u001b[43m,\u001b[49m\u001b[43m \u001b[49m\u001b[38;5;241;43m*\u001b[39;49m\u001b[38;5;241;43m*\u001b[39;49m\u001b[43m(\u001b[49m\u001b[43mkwargs\u001b[49m\u001b[43m \u001b[49m\u001b[38;5;129;43;01mor\u001b[39;49;00m\u001b[43m \u001b[49m\u001b[43m{\u001b[49m\u001b[43m}\u001b[49m\u001b[43m)\u001b[49m\u001b[43m)\u001b[49m\n",
      "\u001b[1;31mRuntimeError\u001b[0m: expected scalar type Double but found Float"
     ]
    }
   ],
   "source": [
    "from src.data import Data\n",
    "from src.utils.color import to_float_rgb\n",
    "from src.utils import init_config\n",
    "from src.transforms import instantiate_datamodule_transforms\n",
    "\n",
    "# we use init_config to load the configuration file and do the exact same preprocessing as in the training pipeline\n",
    "cfg = init_config(overrides=[f\"experiment=semantic/s3dis_11g\"])\n",
    "\n",
    "transforms_dict = instantiate_datamodule_transforms(cfg.datamodule)\n",
    "data = read_ply(ply_path)\n",
    "nag = transforms_dict['pre_transform'](data)\n"
   ]
  },
  {
   "cell_type": "code",
   "execution_count": 5,
   "metadata": {},
   "outputs": [],
   "source": [
    "# The file contains around 10 milliopn points, so we downsample the point cloud to 100k points for display\n",
    "downpcd = pcd.voxel_down_sample(voxel_size=0.05)\n",
    "opd.visualization.draw_geometries([downpcd])"
   ]
  }
 ],
 "metadata": {
  "kernelspec": {
   "display_name": "spt",
   "language": "python",
   "name": "python3"
  },
  "language_info": {
   "codemirror_mode": {
    "name": "ipython",
    "version": 3
   },
   "file_extension": ".py",
   "mimetype": "text/x-python",
   "name": "python",
   "nbconvert_exporter": "python",
   "pygments_lexer": "ipython3",
   "version": "3.8.19"
  }
 },
 "nbformat": 4,
 "nbformat_minor": 2
}
